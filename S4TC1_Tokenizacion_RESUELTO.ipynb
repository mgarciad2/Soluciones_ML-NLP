{
 "cells": [
  {
   "cell_type": "markdown",
   "metadata": {},
   "source": [
    "![image info](https://raw.githubusercontent.com/albahnsen/MIAD_ML_and_NLP/main/images/banner_1.png)"
   ]
  },
  {
   "cell_type": "markdown",
   "metadata": {},
   "source": [
    "# Taller: Tokenización de textos  \n",
    "\n",
    "En este taller podrán poner en práctica sus conocimientos sobre preprocesamiento de texto (tokenización). El taller está constituido por 5 puntos, en los cuales deberan seguir las intrucciones de cada numeral para su desarrollo."
   ]
  },
  {
   "cell_type": "markdown",
   "metadata": {},
   "source": [
    "## Datos detección de toxicidad en comentarios\n",
    "\n",
    "En este taller se usará el conjunto de datos de detección de toxicidad en comentarios de la base de datos de Kaggle. Cada observación es un comentario que tiene como variable objetivo (target) la probabilidad de ser un comentario tóxico. El objetivo es predecir la toxicidad de cada comentario. Para más detalles pueden visitar el siguiente enlace: [datos](https://www.kaggle.com/c/jigsaw-unintended-bias-in-toxicity-classification/data)."
   ]
  },
  {
   "cell_type": "code",
   "execution_count": 63,
   "metadata": {},
   "outputs": [],
   "source": [
    "import warnings\n",
    "warnings.filterwarnings('ignore')"
   ]
  },
  {
   "cell_type": "code",
   "execution_count": 64,
   "metadata": {},
   "outputs": [],
   "source": [
    "# Importación librerías\n",
    "import pandas as pd\n",
    "import numpy as np\n",
    "import scipy as sp\n",
    "from sklearn.model_selection import train_test_split, cross_val_score\n",
    "from sklearn.feature_extraction.text import CountVectorizer, TfidfVectorizer\n",
    "from sklearn import metrics\n",
    "%matplotlib inline"
   ]
  },
  {
   "cell_type": "code",
   "execution_count": 65,
   "metadata": {},
   "outputs": [
    {
     "data": {
      "text/html": [
       "<div>\n",
       "<style scoped>\n",
       "    .dataframe tbody tr th:only-of-type {\n",
       "        vertical-align: middle;\n",
       "    }\n",
       "\n",
       "    .dataframe tbody tr th {\n",
       "        vertical-align: top;\n",
       "    }\n",
       "\n",
       "    .dataframe thead th {\n",
       "        text-align: right;\n",
       "    }\n",
       "</style>\n",
       "<table border=\"1\" class=\"dataframe\">\n",
       "  <thead>\n",
       "    <tr style=\"text-align: right;\">\n",
       "      <th></th>\n",
       "      <th>id</th>\n",
       "      <th>comment_text</th>\n",
       "      <th>target</th>\n",
       "    </tr>\n",
       "  </thead>\n",
       "  <tbody>\n",
       "    <tr>\n",
       "      <th>0</th>\n",
       "      <td>6101457</td>\n",
       "      <td>What are you talking about? What group do Pete...</td>\n",
       "      <td>0.0</td>\n",
       "    </tr>\n",
       "    <tr>\n",
       "      <th>1</th>\n",
       "      <td>5342103</td>\n",
       "      <td>NO!, Let him, we need a Conservative government.</td>\n",
       "      <td>0.0</td>\n",
       "    </tr>\n",
       "    <tr>\n",
       "      <th>2</th>\n",
       "      <td>743361</td>\n",
       "      <td>Perhaps he took the \"power out of the Cardinal...</td>\n",
       "      <td>0.2</td>\n",
       "    </tr>\n",
       "    <tr>\n",
       "      <th>3</th>\n",
       "      <td>551008</td>\n",
       "      <td>As always, yours is dripping with sarcasm, whi...</td>\n",
       "      <td>0.0</td>\n",
       "    </tr>\n",
       "    <tr>\n",
       "      <th>4</th>\n",
       "      <td>865998</td>\n",
       "      <td>The dirty little secret is that the price rang...</td>\n",
       "      <td>0.3</td>\n",
       "    </tr>\n",
       "  </tbody>\n",
       "</table>\n",
       "</div>"
      ],
      "text/plain": [
       "        id                                       comment_text  target\n",
       "0  6101457  What are you talking about? What group do Pete...     0.0\n",
       "1  5342103   NO!, Let him, we need a Conservative government.     0.0\n",
       "2   743361  Perhaps he took the \"power out of the Cardinal...     0.2\n",
       "3   551008  As always, yours is dripping with sarcasm, whi...     0.0\n",
       "4   865998  The dirty little secret is that the price rang...     0.3"
      ]
     },
     "execution_count": 65,
     "metadata": {},
     "output_type": "execute_result"
    }
   ],
   "source": [
    "# Carga de datos de archivos .csv\n",
    "df = pd.read_csv('https://raw.githubusercontent.com/albahnsen/MIAD_ML_and_NLP/main/datasets/Toxicity.zip')\n",
    "df = df[['id','comment_text', 'target']]\n",
    "df.head()"
   ]
  },
  {
   "cell_type": "code",
   "execution_count": 66,
   "metadata": {},
   "outputs": [
    {
     "data": {
      "text/plain": [
       "<matplotlib.axes._subplots.AxesSubplot at 0x7f97b35529d0>"
      ]
     },
     "execution_count": 66,
     "metadata": {},
     "output_type": "execute_result"
    },
    {
     "data": {
      "image/png": "[encoded data removed]",
      "text/plain": [
       "<Figure size 432x288 with 1 Axes>"
      ]
     },
     "metadata": {
      "needs_background": "light"
     },
     "output_type": "display_data"
    }
   ],
   "source": [
    "# Impresión histograma de variable de interés (y)\n",
    "df.target.hist()"
   ]
  },
  {
   "cell_type": "code",
   "execution_count": 67,
   "metadata": {},
   "outputs": [
    {
     "data": {
      "text/plain": [
       "count    541462.000000\n",
       "mean          0.102991\n",
       "std           0.196979\n",
       "min           0.000000\n",
       "25%           0.000000\n",
       "50%           0.000000\n",
       "75%           0.166667\n",
       "max           1.000000\n",
       "Name: target, dtype: float64"
      ]
     },
     "execution_count": 67,
     "metadata": {},
     "output_type": "execute_result"
    }
   ],
   "source": [
    "# Separación de variable de interés (y)\n",
    "y = df.target\n",
    "y.describe()"
   ]
  },
  {
   "cell_type": "code",
   "execution_count": 68,
   "metadata": {},
   "outputs": [],
   "source": [
    "# Separación de variables predictoras (X), solo se considera el texto de la noticia\n",
    "X = df.comment_text"
   ]
  },
  {
   "cell_type": "code",
   "execution_count": 69,
   "metadata": {},
   "outputs": [],
   "source": [
    "# Separación de datos en set de entrenamiento y test\n",
    "X_train, X_test, y_train, y_test = train_test_split(X, y, test_size=0.33, random_state=42)"
   ]
  },
  {
   "cell_type": "markdown",
   "metadata": {},
   "source": [
    "## Punto 1 - Tokenización con CountVectorizer\n",
    "\n",
    "En la celda 1 creen y entrenen el modelo de regresión de su preferencia, para que prediga la probabilidad de que un comentario sea tóxico, usando los set de entrenamiento y test definidos anteriormente. Usen la función **CountVectorizer** para preprocesar los comentarios y presenten el desempeño del modelo con la métrica del MSE.\n",
    "\n",
    "Recuerden que el preprocesamiento que se haga sobre los datos de entrenamiento  (*.fit_transform()*) deben ser aplicado al set de test (*.transform()*)."
   ]
  },
  {
   "cell_type": "code",
   "execution_count": 70,
   "metadata": {},
   "outputs": [],
   "source": [
    "# Celda 1\n",
    "\n",
    "# Creación de matrices de documentos usando CountVectorizer con todo en vocabulario en minúsculas.\n",
    "vect_1 = CountVectorizer() \n",
    "X_train_1 = vect_1.fit_transform(X_train) # Preprocesamiento en train\n",
    "X_test_1 = vect_1.transform(X_test) # Preprocesamiento en test"
   ]
  },
  {
   "cell_type": "markdown",
   "metadata": {},
   "source": [
    "En la celda anterior **hemos creado la matriz de tokens para el conjunto de train y también hemos aplicado la misma transformación al conjunto de test** para ingresarlos al modelo predictivo. En la siguiente celda vamos a revisar **la cantidad de comentarios que tiene el conjunto de train y test, al igual que la cantidad de tokens** (característias/columnas) del diccionario que produjo el conjunto train (que debe ser igual en los dos conjuntos):"
   ]
  },
  {
   "cell_type": "code",
   "execution_count": 71,
   "metadata": {},
   "outputs": [
    {
     "name": "stdout",
     "output_type": "stream",
     "text": [
      "X_train_1 tiene 362779 comentarios y 141176 tokens\n",
      "X_test_1 tiene 178683 comentarios y 141176 tokens\n"
     ]
    }
   ],
   "source": [
    "# Impresión del tamaño de los set de train y test\n",
    "print(\"X_train_1 tiene {} comentarios y {} tokens\".format(*X_train_1.shape))\n",
    "print(\"X_test_1 tiene {} comentarios y {} tokens\".format(*X_test_1.shape))"
   ]
  },
  {
   "cell_type": "markdown",
   "metadata": {},
   "source": [
    "Ahora vamos a **entrenar y calibrar el modelo predictivo de Random Forest**. Solo variamos un parámetro porque la calibración con GridSearchCV empezó a tomar demasiado tiempo modificando varios de los parámetros (**básicamente solo usamos validación cruzada con 2 folds y variación del parámetro *max_depth***):"
   ]
  },
  {
   "cell_type": "code",
   "execution_count": 72,
   "metadata": {},
   "outputs": [
    {
     "data": {
      "text/plain": [
       "GridSearchCV(cv=2, error_score=nan,\n",
       "             estimator=RandomForestRegressor(bootstrap=True, ccp_alpha=0.0,\n",
       "                                             criterion='mse', max_depth=None,\n",
       "                                             max_features='auto',\n",
       "                                             max_leaf_nodes=None,\n",
       "                                             max_samples=None,\n",
       "                                             min_impurity_decrease=0.0,\n",
       "                                             min_impurity_split=None,\n",
       "                                             min_samples_leaf=1,\n",
       "                                             min_samples_split=2,\n",
       "                                             min_weight_fraction_leaf=0.0,\n",
       "                                             n_estimators=100, n_jobs=-1,\n",
       "                                             oob_score=False, random_state=42,\n",
       "                                             verbose=0, warm_start=False),\n",
       "             iid='deprecated', n_jobs=None,\n",
       "             param_grid={'max_depth': [4, 5, 6, 7, 8], 'max_features': ['sqrt'],\n",
       "                         'n_estimators': [100]},\n",
       "             pre_dispatch='2*n_jobs', refit=True, return_train_score=False,\n",
       "             scoring=None, verbose=0)"
      ]
     },
     "execution_count": 72,
     "metadata": {},
     "output_type": "execute_result"
    }
   ],
   "source": [
    "# Calibración y entrenamiento del modelo Ramdon Forest:\n",
    "from sklearn.model_selection import GridSearchCV\n",
    "from sklearn.ensemble import RandomForestRegressor\n",
    "\n",
    "\n",
    "# Definición del modelo Random Forest\n",
    "rfr=RandomForestRegressor(random_state=42,n_jobs=-1)\n",
    "# Parámetros para calibración\n",
    "param_grid = { \n",
    "    #'n_estimators': [200, 300],\n",
    "    'n_estimators': [100],\n",
    "    #'max_features': ['auto', 'sqrt', 'log2'],\n",
    "    'max_features': ['sqrt'],\n",
    "    'max_depth' : [4,5,6,7,8],\n",
    "    #'max_depth' : [4],\n",
    "    #'criterion' :['squared_error', 'absolute_error', 'poisson']\n",
    "}\n",
    "# Entrenamiento para calibración con GridSearchCV \n",
    "CV_rfr = GridSearchCV(estimator=rfr, param_grid=param_grid, cv= 2)\n",
    "CV_rfr.fit(X_train_1, y_train)"
   ]
  },
  {
   "cell_type": "markdown",
   "metadata": {},
   "source": [
    "A partir de **la calibración con GridSearchCV podemos conocer ahora los mejores parámetros (solo variamos *max_depth*), los cuales son:**"
   ]
  },
  {
   "cell_type": "code",
   "execution_count": 73,
   "metadata": {},
   "outputs": [
    {
     "data": {
      "text/plain": [
       "{'max_depth': 8, 'max_features': 'sqrt', 'n_estimators': 100}"
      ]
     },
     "execution_count": 73,
     "metadata": {},
     "output_type": "execute_result"
    }
   ],
   "source": [
    "# Mejores parámetros de la calibración\n",
    "CV_rfr.best_params_"
   ]
  },
  {
   "cell_type": "markdown",
   "metadata": {},
   "source": [
    "Con el único parámetro anteriormente calibrado podemos entrenar el **modelo final para predecir la probabilidad de que un \n",
    "comentario sea tóxico:**"
   ]
  },
  {
   "cell_type": "code",
   "execution_count": 74,
   "metadata": {},
   "outputs": [],
   "source": [
    "# Entrenamiento del modelo con parámetros calibrados:\n",
    "rfr_1=RandomForestRegressor(max_features='sqrt', n_estimators= 100, max_depth=8, random_state=42, n_jobs=-1)\n",
    "rfr_1.fit(X_train_1, y_train)\n",
    "# Predicciones de probabilidad de toxicidad sobre el conjunto Test\n",
    "y_pred_1=rfr_1.predict(X_test_1)"
   ]
  },
  {
   "cell_type": "markdown",
   "metadata": {},
   "source": [
    "Finalmente, procedemos a calcular **el desempeño del modelo en el conjunto de test a partir del MSE:**"
   ]
  },
  {
   "cell_type": "code",
   "execution_count": 94,
   "metadata": {},
   "outputs": [
    {
     "name": "stdout",
     "output_type": "stream",
     "text": [
      "El valor del MSE para nuestro modelo con tokenización por palabras es: 0.0380374843136335\n"
     ]
    }
   ],
   "source": [
    "# Función que calcula el MSE\n",
    "def mse (real, pred):\n",
    "    real, pred = np.array (real), np.array (pred)\n",
    "    return np.square (np.subtract (real, pred)). mean () \n",
    "\n",
    "# Cálculo del MSE\n",
    "mse_1 = mse(y_test, y_pred_1)\n",
    "print('El valor del MSE para nuestro modelo con tokenización por palabras es: {}'.format(mse(y_test, y_pred_1)))"
   ]
  },
  {
   "cell_type": "markdown",
   "metadata": {},
   "source": [
    "## Punto 2 - Tokenización con CountVectorizer y trigramas\n",
    "\n",
    "En la celda 2 creen y entrenen el mismo modelo de regresión del punto anterior (es decir si usaron un RandomForestRegresor usen nuevamente ese regresor), para que prediga la probabilidad de que un comentario sea tóxico, usando los set de entrenamiento y test definidos anteriormente. Usen la función CountVectorizer **considerando trigramas** para preprocesar los comentarios y presenten el desempeño del modelo con la métrica del MSE.\n",
    "\n",
    "Recuerden que el preprocesamiento que se haga sobre los datos de entrenamiento  (*.fit_transform()*) deben ser aplicado al set de test (*.transform()*)."
   ]
  },
  {
   "cell_type": "code",
   "execution_count": 76,
   "metadata": {},
   "outputs": [],
   "source": [
    "# Celda 2\n",
    "\n",
    "# Creación de matrices de documentos usando CountVectorizer con trigramas.\n",
    "vect_2 = CountVectorizer(ngram_range=(3, 3)) \n",
    "X_train_2 = vect_2.fit_transform(X_train) # Preprocesamiento en train\n",
    "X_test_2 = vect_2.transform(X_test) # Preprocesamiento en test"
   ]
  },
  {
   "cell_type": "markdown",
   "metadata": {},
   "source": [
    "En la celda anterior **hemos creado la matriz de tokens con trigramas para el conjunto de train y también hemos aplicado la misma transformación al conjunto de test** para ingresarlos al modelo predictivo. En la siguiente celda vamos a revisar **la cantidad de comentarios que tiene el conjunto de train y test, al igual que la cantidad de tokens** (característias/columnas) del diccionario que produjo el conjunto train (que debe ser igual en los dos conjuntos):"
   ]
  },
  {
   "cell_type": "code",
   "execution_count": 77,
   "metadata": {
    "scrolled": true
   },
   "outputs": [
    {
     "name": "stdout",
     "output_type": "stream",
     "text": [
      "X_train_2 tiene 362779 comentarios y 10546378 tokens\n",
      "X_test_2 tiene 178683 comentarios y 10546378 tokens\n"
     ]
    }
   ],
   "source": [
    "# Impresión del tamaño de los set de train y test\n",
    "print(\"X_train_2 tiene {} comentarios y {} tokens\".format(*X_train_2.shape))\n",
    "print(\"X_test_2 tiene {} comentarios y {} tokens\".format(*X_test_2.shape))"
   ]
  },
  {
   "cell_type": "markdown",
   "metadata": {},
   "source": [
    "Ahora vamos a **entrenar y calibrar el modelo predictivo de Random Forest**. Solo variamos un parámetro porque la calibración con GridSearchCV empezó a tomar demasiado tiempo modificando varios de los parámetros (**básicamente solo usamos validación cruzada con 2 folds y variación del parámetro *max_depth***):"
   ]
  },
  {
   "cell_type": "code",
   "execution_count": 78,
   "metadata": {},
   "outputs": [
    {
     "data": {
      "text/plain": [
       "GridSearchCV(cv=2, error_score=nan,\n",
       "             estimator=RandomForestRegressor(bootstrap=True, ccp_alpha=0.0,\n",
       "                                             criterion='mse', max_depth=None,\n",
       "                                             max_features='auto',\n",
       "                                             max_leaf_nodes=None,\n",
       "                                             max_samples=None,\n",
       "                                             min_impurity_decrease=0.0,\n",
       "                                             min_impurity_split=None,\n",
       "                                             min_samples_leaf=1,\n",
       "                                             min_samples_split=2,\n",
       "                                             min_weight_fraction_leaf=0.0,\n",
       "                                             n_estimators=100, n_jobs=-1,\n",
       "                                             oob_score=False, random_state=42,\n",
       "                                             verbose=0, warm_start=False),\n",
       "             iid='deprecated', n_jobs=None,\n",
       "             param_grid={'max_depth': [4, 5, 6, 7, 8], 'max_features': ['sqrt'],\n",
       "                         'n_estimators': [100]},\n",
       "             pre_dispatch='2*n_jobs', refit=True, return_train_score=False,\n",
       "             scoring=None, verbose=0)"
      ]
     },
     "execution_count": 78,
     "metadata": {},
     "output_type": "execute_result"
    }
   ],
   "source": [
    "# Definición del modelo Random Forest\n",
    "rfr=RandomForestRegressor(random_state=42,n_jobs=-1)\n",
    "# Parámetros para calibración\n",
    "param_grid = { \n",
    "    #'n_estimators': [200, 300],\n",
    "    'n_estimators': [100],\n",
    "    #'max_features': ['auto', 'sqrt', 'log2'],\n",
    "    'max_features': ['sqrt'],\n",
    "    'max_depth' : [4,5,6,7,8],\n",
    "    #'max_depth' : [4],\n",
    "    #'criterion' :['squared_error', 'absolute_error', 'poisson']\n",
    "}\n",
    "# Entrenamiento para calibración con GridSearchCV \n",
    "CV_rfr = GridSearchCV(estimator=rfr, param_grid=param_grid, cv= 2)\n",
    "CV_rfr.fit(X_train_2, y_train)"
   ]
  },
  {
   "cell_type": "markdown",
   "metadata": {},
   "source": [
    "A partir de **la calibración con GridSearchCV podemos conocer ahora los mejores parámetros (solo variamos *max_depth*), los cuales son:**"
   ]
  },
  {
   "cell_type": "code",
   "execution_count": 79,
   "metadata": {},
   "outputs": [
    {
     "data": {
      "text/plain": [
       "{'max_depth': 8, 'max_features': 'sqrt', 'n_estimators': 100}"
      ]
     },
     "execution_count": 79,
     "metadata": {},
     "output_type": "execute_result"
    }
   ],
   "source": [
    "# Mejores parámetros de la calibración\n",
    "CV_rfr.best_params_"
   ]
  },
  {
   "cell_type": "markdown",
   "metadata": {},
   "source": [
    "Con el único parámetro anteriormente calibrado podemos entrenar el **modelo final para predecir la probabilidad de que un \n",
    "comentario sea tóxico:**"
   ]
  },
  {
   "cell_type": "code",
   "execution_count": 80,
   "metadata": {},
   "outputs": [],
   "source": [
    "# Entrenamiento del modelo con parámetros calibrados:\n",
    "rfr_2=RandomForestRegressor(max_features='sqrt', n_estimators= 100, max_depth=8, random_state=42, n_jobs=-1)\n",
    "rfr_2.fit(X_train_2, y_train)\n",
    "# Predicciones de probabilidad de toxicidad sobre el conjunto Test\n",
    "y_pred_2=rfr_2.predict(X_test_2)"
   ]
  },
  {
   "cell_type": "markdown",
   "metadata": {},
   "source": [
    "Finalmente, procedemos a calcular **el desempeño del modelo en el conjunto de test a partir del MSE:**"
   ]
  },
  {
   "cell_type": "code",
   "execution_count": 95,
   "metadata": {},
   "outputs": [
    {
     "name": "stdout",
     "output_type": "stream",
     "text": [
      "El valor del MSE para nuestro modelo con tokenización por trigramas es: 0.03900371189341457\n"
     ]
    }
   ],
   "source": [
    "# Cálculo del MSE\n",
    "mse_2 = mse(y_test, y_pred_2)\n",
    "print('El valor del MSE para nuestro modelo con tokenización por trigramas es: {}'.format(mse(y_test, y_pred_2)))"
   ]
  },
  {
   "cell_type": "markdown",
   "metadata": {},
   "source": [
    "## Punto 3 - TfidfVectorizer\n",
    "\n",
    "Investigen sobre la función TfidfVectorizer. En la celda de texto 3, expliquen en qué consiste esta técnica de tokenización (describanla y expliquen su funcionamiento) y cúales son las ventajas o deventajas de su uso al compararlo con la función CountVectorizer."
   ]
  },
  {
   "cell_type": "markdown",
   "metadata": {},
   "source": [
    "#Celda 3\n",
    "\n",
    "## TfidfVectorizer\n",
    "\n",
    "###  Siglas\n",
    "**TF-IDF son las siglas de Term Frequency Inverse Document Frequency**. Este es un algoritmo para transformar el texto en una representación significativa de números que se utilizan en el algoritmo predictivo. Algunos motores de búsqueda lo utilizan para ayudarlos a obtener mejores resultados que sean más relevantes para una consulta.\n",
    "\n",
    "\n",
    "### Qué es TF-IDF\n",
    "TF-IDF tiene como objetivo definir mejor la importancia de una palabra para un documento, al tiempo que tiene en cuenta la relación con otros documentos del mismo corpus (colección de documentos). Esto se realiza observando cuántas veces aparece una palabra en un documento y al mismo tiempo prestando atención a cuántas veces aparece la misma palabra en otros documentos del corpus.\n",
    "\n",
    "La razón detrás de comparar con otros documentos es:\n",
    "- una palabra que aparece con frecuencia en un documento tiene más relevancia para ese documento, lo que significa que hay una mayor probabilidad de que el documento sea sobre o en relación con esa palabra específica\n",
    "- una palabra que aparece con frecuencia en más documentos puede impedirnos encontrar el documento correcto en una colección; la palabra es relevante para todos los documentos o para ninguno. De cualquier manera, no nos ayudará a filtrar un solo documento o un pequeño subconjunto de documentos de todo el conjunto.\n",
    "\n",
    "TF-IDF es un valor que se aplica a cada palabra en cada documento de nuestro conjunto de datos. Y para cada palabra, el valor TF-IDF aumenta con cada apariencia de la palabra en un documento, pero disminuye gradualmente con cada aparición en otros documentos.\n",
    "\n",
    "### Formulación matemática de TF-IDF\n",
    "El valor de tf-idf se calcula a partir de la siguiente relación:\n",
    "$$ tfidf(w,d,D) = tf(w,d)*idf(w,D) $$\n",
    "donde \\\\(  w \\\\) es una palabra dada en un documento, \\\\(  d \\\\) es un documento determinado de nuestro conjunto de datos, \\\\( D \\\\) es la colección de todos los documentos, \\\\( tf(w,d) \\\\) es la frecuencia del término/palabra y \\\\( idf(w,D) \\\\) es la frecuencia inversa del documento.\n",
    "\n",
    "El primer término de la multiplicación, \\\\( tf(w,d) \\\\), la frecuencia del término en un documento, se calcula a partir de\n",
    "$$ tf(w,d) = \\log(1+f(w,d)) $$\n",
    "donde \\\\( f(w,d) \\\\) es la frecuencia de la palabra \\\\( w \\\\) en el documento \\\\( d \\\\).\n",
    "\n",
    "El segundo término de la ecuación, \\\\( idf(w,D) \\\\), la frecuencia inversa del documento, se calcula a partir de \n",
    "$$ idf(w,D) = \\log(\\frac{N}{f(w,D)} $$\n",
    "donde \\\\( N \\\\) es el número de documentos en el conjunto de datos y \\\\( f(w,D) \\\\) es la frecuencia de la palabra \\\\( w \\\\) en todo el conjunto de datos.\n",
    "\n",
    "La fórmula  tiene una consecuencia importante de que se alcanza un alto valor del cálculo \\\\( tfidf \\\\) cuando tenemos una frecuencia de término alto \\\\( tf \\\\) en el documento dado (parámetro local) y una frecuencia de documento baja del término en toda la colección (parámetro global), \\\\( idf \\\\).\n",
    "\n",
    "### Ventaja de TF-IDF comparado con CountVectorizer\n",
    "En general los dos métodos sirven para vectorizar documentos y mientras uno aporta un valor decimal de importancia de una palabra (TfidfVectorizer), el otro brinda un conteo entero de la cantidad de apariciones de la palabra. En general, existe una ventaja debido al caracter comparativo de cierta palabra entre diferentes documentos de la colección, se puede tener **información de la importancia estadística global al usar TfidfVectorizer que al usar CountVectorizer**. Adicionalmente, podemos indicar que los dos métodos tiene una falla en distinguir información linguística de las palabras, tales como significado real de las palabras o similaridad de las palabras con otras.\n",
    "\n",
    "\n",
    "### Referencias:\n",
    "- [towards data science](https://towardsdatascience.com/tf-idf-explained-and-python-sklearn-implementation-b020c5e83275)\n",
    "- [linkedin](https://www.linkedin.com/pulse/count-vectorizers-vs-tfidf-natural-language-processing-sheel-saket)"
   ]
  },
  {
   "cell_type": "markdown",
   "metadata": {},
   "source": [
    "## Punto 4 - Tokenización con TfidfVectorizer\n",
    "\n",
    "En la celda 4 creen y entrenen el mismo modelo de regresión del primer punto, para que prediga la probabilidad de que un comentario sea tóxico, usando los set de entrenamiento y test definidos anteriormente. Procesen los comentarios con la función **TfidfVectorizer** y presenten el desempeño del modelo con la métrica del MSE.\n",
    "\n",
    "Recuerden que el preprocesamiento que se haga sobre los datos de entrenamiento  (*.fit_transform()*) deben ser aplicado al set de test (*.transform()*)."
   ]
  },
  {
   "cell_type": "code",
   "execution_count": 82,
   "metadata": {},
   "outputs": [],
   "source": [
    "# Celda 4\n",
    "\n",
    "# Creación de matrices de documentos usando TfidfVectorizer\n",
    "vect_4 = TfidfVectorizer() \n",
    "X_train_4 = vect_4.fit_transform(X_train) # Preprocesamiento en train\n",
    "X_test_4 = vect_4.transform(X_test) # Preprocesamiento en test"
   ]
  },
  {
   "cell_type": "markdown",
   "metadata": {},
   "source": [
    "En la celda anterior **hemos creado la matriz de tokens con TfidfVectorizer para el conjunto de train y también hemos aplicado la misma transformación al conjunto de test** para ingresarlos al modelo predictivo."
   ]
  },
  {
   "cell_type": "code",
   "execution_count": 89,
   "metadata": {},
   "outputs": [
    {
     "name": "stdout",
     "output_type": "stream",
     "text": [
      "X_train_4 tiene 362779 comentarios y 141176 tokens\n",
      "X_test_4 tiene 178683 comentarios y 141176 tokens\n"
     ]
    }
   ],
   "source": [
    "# Impresión del tamaño de los set de train y test\n",
    "print(\"X_train_4 tiene {} comentarios y {} tokens\".format(*X_train_4.shape))\n",
    "print(\"X_test_4 tiene {} comentarios y {} tokens\".format(*X_test_4.shape))"
   ]
  },
  {
   "cell_type": "markdown",
   "metadata": {},
   "source": [
    "Ahora vamos a **entrenar y calibrar el modelo predictivo de Random Forest**. Solo variamos un parámetro porque la calibración con GridSearchCV empezó a tomar demasiado tiempo modificando varios de los parámetros (**básicamente solo usamos validación cruzada con 2 folds y variación del parámetro *max_depth***):"
   ]
  },
  {
   "cell_type": "code",
   "execution_count": 90,
   "metadata": {},
   "outputs": [
    {
     "data": {
      "text/plain": [
       "GridSearchCV(cv=2, error_score=nan,\n",
       "             estimator=RandomForestRegressor(bootstrap=True, ccp_alpha=0.0,\n",
       "                                             criterion='mse', max_depth=None,\n",
       "                                             max_features='auto',\n",
       "                                             max_leaf_nodes=None,\n",
       "                                             max_samples=None,\n",
       "                                             min_impurity_decrease=0.0,\n",
       "                                             min_impurity_split=None,\n",
       "                                             min_samples_leaf=1,\n",
       "                                             min_samples_split=2,\n",
       "                                             min_weight_fraction_leaf=0.0,\n",
       "                                             n_estimators=100, n_jobs=-1,\n",
       "                                             oob_score=False, random_state=42,\n",
       "                                             verbose=0, warm_start=False),\n",
       "             iid='deprecated', n_jobs=None,\n",
       "             param_grid={'max_depth': [4, 5, 6, 7, 8], 'max_features': ['sqrt'],\n",
       "                         'n_estimators': [100]},\n",
       "             pre_dispatch='2*n_jobs', refit=True, return_train_score=False,\n",
       "             scoring=None, verbose=0)"
      ]
     },
     "execution_count": 90,
     "metadata": {},
     "output_type": "execute_result"
    }
   ],
   "source": [
    "# Definición del modelo Random Forest\n",
    "rfr=RandomForestRegressor(random_state=42,n_jobs=-1)\n",
    "# Parámetros para calibración\n",
    "param_grid = { \n",
    "    #'n_estimators': [200, 300],\n",
    "    'n_estimators': [100],\n",
    "    #'max_features': ['auto', 'sqrt', 'log2'],\n",
    "    'max_features': ['sqrt'],\n",
    "    'max_depth' : [4,5,6,7,8],\n",
    "    #'max_depth' : [4],\n",
    "    #'criterion' :['squared_error', 'absolute_error', 'poisson']\n",
    "}\n",
    "# Entrenamiento para calibración con GridSearchCV \n",
    "CV_rfr = GridSearchCV(estimator=rfr, param_grid=param_grid, cv= 2)\n",
    "CV_rfr.fit(X_train_4, y_train)"
   ]
  },
  {
   "cell_type": "markdown",
   "metadata": {},
   "source": [
    "A partir de **la calibración con GridSearchCV podemos conocer ahora los mejores parámetros (solo variamos *max_depth*), los cuales son:**"
   ]
  },
  {
   "cell_type": "code",
   "execution_count": 91,
   "metadata": {},
   "outputs": [
    {
     "data": {
      "text/plain": [
       "{'max_depth': 8, 'max_features': 'sqrt', 'n_estimators': 100}"
      ]
     },
     "execution_count": 91,
     "metadata": {},
     "output_type": "execute_result"
    }
   ],
   "source": [
    "# Mejores parámetros de la calibración\n",
    "CV_rfr.best_params_"
   ]
  },
  {
   "cell_type": "markdown",
   "metadata": {},
   "source": [
    "Con el único parámetro anteriormente calibrado podemos entrenar el **modelo final para predecir la probabilidad de que un \n",
    "comentario sea tóxico:**"
   ]
  },
  {
   "cell_type": "code",
   "execution_count": 92,
   "metadata": {},
   "outputs": [],
   "source": [
    "# Entrenamiento del modelo con parámetros calibrados:\n",
    "rfr_4=RandomForestRegressor(max_features='sqrt', n_estimators= 100, max_depth=8, random_state=42, n_jobs=-1)\n",
    "rfr_4.fit(X_train_4, y_train)\n",
    "# Predicciones de probabilidad de toxicidad sobre el conjunto Test\n",
    "y_pred_4=rfr_4.predict(X_test_4)"
   ]
  },
  {
   "cell_type": "markdown",
   "metadata": {},
   "source": [
    "Finalmente, procedemos a calcular **el desempeño del modelo en el conjunto de test a partir del MSE:**"
   ]
  },
  {
   "cell_type": "code",
   "execution_count": 96,
   "metadata": {},
   "outputs": [
    {
     "name": "stdout",
     "output_type": "stream",
     "text": [
      "El valor del MSE para nuestro modelo con tokenización por TfidfVectorizer es: 0.03803466903027268\n"
     ]
    }
   ],
   "source": [
    "# Cálculo del MSE\n",
    "mse_4 = mse(y_test, y_pred_4)\n",
    "print('El valor del MSE para nuestro modelo con tokenización por TfidfVectorizer es: {}'.format(mse(y_test, y_pred_4)))"
   ]
  },
  {
   "cell_type": "markdown",
   "metadata": {},
   "source": [
    "## Punto 5 - Comparación y análisis de resultados\n",
    "\n",
    "En la celda 5 comparen los resultados obtenidos de los diferentes modelos y comenten cómo el preprocesamiento de texto afecta el desempeño."
   ]
  },
  {
   "cell_type": "code",
   "execution_count": 98,
   "metadata": {},
   "outputs": [
    {
     "data": {
      "image/png": "[encoded data removed]",
      "text/plain": [
       "<Figure size 720x360 with 1 Axes>"
      ]
     },
     "metadata": {
      "needs_background": "light"
     },
     "output_type": "display_data"
    }
   ],
   "source": [
    "# Celda 5\n",
    "import matplotlib.pyplot as plt\n",
    "\n",
    "fig = plt.figure(figsize=(10, 5))\n",
    "ax = fig.add_axes([0,0,1,1])\n",
    "ax.set_title(\"Comparación de modelos\")\n",
    "ejeX = ['CountVectorizer por palabras', 'CountVectorizer por trigramas','TfidfVectorizer']\n",
    "ejeY = np.around([mse_1,mse_2,mse_4],6)\n",
    "ax.bar(ejeX,ejeY)\n",
    "def addlabels(x,y,plotP):\n",
    "    for i in range(len(x)):\n",
    "        plotP.text(i,y[i],y[i])\n",
    "addlabels(ejeX,ejeY,plt)\n",
    "plt.show()"
   ]
  },
  {
   "cell_type": "markdown",
   "metadata": {},
   "source": [
    "Los valores del MSE para los tres modelos trabajados son muy similares, aunque se puede ver que **por mínima diferencia el mejor modelo es el de TfidfVectorizer**. \n",
    "\n",
    "Una de los posibles razones para la similitud entre los tres modelos puede estar en la poca variación que se tuvo del único parámetro (*max_depth*) al calibrar el Random Forest con GridSearchCV porque el tiempo de calculo aumentaba de forma que se detenía el proceso sin terminar o dar un resultado. Esperabamos, por lo consultado en el **Punto 3** del laboratorio, que **la tokenización con TfidfVectorizer mostrará una diferencia más marcada respecto a los otros dos métodos utilizados con CountVectorizer** al definir mejor la importancia de cierta palabra para un documento y por lo tanto asociar con mayor claridad las palabras que representan la toxicidad o no de un comentario, y que finalmente esto le permitiera al modelo de Random Forest un mayor poder predictivo."
   ]
  },
  {
   "cell_type": "code",
   "execution_count": null,
   "metadata": {},
   "outputs": [],
   "source": []
  }
 ],
 "metadata": {
  "kernelspec": {
   "display_name": "Python 3",
   "language": "python",
   "name": "python3"
  },
  "language_info": {
   "codemirror_mode": {
    "name": "ipython",
    "version": 3
   },
   "file_extension": ".py",
   "mimetype": "text/x-python",
   "name": "python",
   "nbconvert_exporter": "python",
   "pygments_lexer": "ipython3",
   "version": "3.7.6"
  },
  "name": "_merged"
 },
 "nbformat": 4,
 "nbformat_minor": 4
}
